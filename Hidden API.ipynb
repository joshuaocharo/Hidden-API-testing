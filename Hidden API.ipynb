{
 "cells": [
  {
   "cell_type": "code",
   "execution_count": 2,
   "id": "9ae947ca",
   "metadata": {},
   "outputs": [],
   "source": [
    "import requests\n",
    "import pandas as pd"
   ]
  },
  {
   "cell_type": "markdown",
   "id": "45a98670",
   "metadata": {},
   "source": [
    "Requests and CURL"
   ]
  },
  {
   "cell_type": "code",
   "execution_count": 3,
   "id": "42296f98",
   "metadata": {},
   "outputs": [],
   "source": [
    "headers = {\n",
    "    'authority': 'www.asos.com',\n",
    "    'accept': 'application/json, text/plain, */*',\n",
    "    'accept-language': 'en-KE,en-GB;q=0.9,en-US;q=0.8,en;q=0.7',\n",
    "    'asos-c-name': 'asos-web-product-listing-page',\n",
    "    'asos-c-plat': 'web',\n",
    "    'asos-c-ver': '1.2.0-8d02526c5a88-5523',\n",
    "    'asos-cid': 'cd57ce4f-1709-427a-8fd9-ae4e3325748f',\n",
    "    # Requests sorts cookies= alphabetically\n",
    "    # 'cookie': 'geocountry=KE; bm_sz=487159BE8A1245959175EF944E47D241~YAAQ5yMVAmXhHqqAAQAAT0mh1g9uLFN1LOoxJVE1uMhLbD3VoFHhrSff3FwoH86tyfXMUUokAtGy1MO8biXZWwxjr1DbBnSMmXJFZtmdjci1h0j5MLZTga69iaYEr8XJ5t2v+bd/INemWDIFU72f+Pp9mKPj1BVFRsJS4hk6Rm8Dvr9RljdEE8HgYWlPq5fWflgeHdKFc4P83qAmfyPNn3HxPa/lLDTEYHIWzs8FeSRZ/KXHKsizFqSuyfG6aOB3HsCUfXqXe9hFO6Ee+TIgI8szgaQTMgvp0Jy6UX7xu72i~3617590~4535876; keyStoreDataversion=dup0qtf-35; siteChromeVersion=au=11&com=11&de=11&dk=11&es=11&fr=11&it=11&nl=11&pl=11&roe=11&row=11&ru=11&se=11&us=11; browseCountry=KE; browseCurrency=GBP; storeCode=ROW; browseSizeSchema=UK; browseLanguage=en-GB; currency=1; featuresId=9de01716-2fcb-4fca-92cc-3ee6801d6d97; asos-b-sdv629=dup0qtf-35; AMCVS_C0137F6A52DEAFCC0A490D4C%40AdobeOrg=1; stc-welcome-message=cappedPageCount=2; floor=1001; bm_mi=9AF3B651E5FC0074FC3221FDEBC95554~YAAQ5yMVAgLiHqqAAQAAP4ah1g8ITKAmoxcOeE+Ovn2rBUpOBWWENjPlIJ/R0XdFkzo0hXRyJUHQzb7qer33OBVyPwWTtgHLZCGsB4wrJxIiP/TgGph0f88RGdE+CSLFuf+/lyifVZcjZ622Za3O7r2B7zZGpSDepDz3fwTTDLcNBgitatD5YZmpVAh5eluXHGC6xvFAudKmf1wKWHeyznValiIVFPiU0twBLyh6MUDP6FV6VEvU6Y2pP4p3HcXY2x/KMuwZy72NeJ1jakPK95UQ4itoOcdBOH/rKWXSYnwCWeYoI6MyRd+5NXKdF8Fs2H4JUjNMF/O401audTmIZTjNOJI182qk~1; ak_bmsc=D6638E019D3E4267349562675541846D~000000000000000000000000000000~YAAQ5yMVAjriHqqAAQAAZZ2h1g8iAp6eTjJjTER9rVap8kuO6IwRywo+TuRFeTnvxmwe4zbL4JI4/6jjXQP+6OWUzS01Q0fZmRYlxG4lT5ORB68WZPmYUBXiqHOs8LIq+fIRKFh7HgCu1Ha3f8egokf6S1jqddbqVqNCE9vYJBk3G98agnN+jTT71LpvEyZKevOG1DpgzG1vLISpculJ1wI5wGHXUBVvZu5qdahX+A97CsxfZpPxMSkD9E6wUmOxWS1BgEtPDr5nBLVKII85YrDrF6gPrvARugjGZAY6ghsRbi/1zyTCL3HS2GEzl3syE9dHn5IFD0jYVOObmgznyUlE2HRmPG7D2O4UwebH49PcRCdkVakILq+CbBTq9w8Rd30tWeo1DgMNKrBhjmx6SChh2Rsi/L1V7hbpmsfp6vRGFIiCcPaVr4NAE22HismsKNmXh7EL6tN/MZ5j0zkHtcaXSa8wuhUqcCgHMGAUwSIDDFNuJZeXj6MoOgySlwEHj+aM/0xcPbrmWLftLGPj8wtPGoJvVrAK; asos=PreferredSite=&currencyid=1&currencylabel=GBP&topcatid=1001&customerguid=a9add6d239a84a6589e83387fddcb362; asos-perx=a9add6d239a84a6589e83387fddcb362||ca27e8e547664ed3aca04d2a5c1025f4; s_ecid=MCMID%7C16854530002531207054498915700578362740; _s_fpv=true; s_cc=true; _gcl_au=1.1.201195010.1652868358; bt_stdstatus=NOTSTUDENT; _gid=GA1.2.1884827764.1652868358; _cs_c=0; FPLC=h%2FzPGarhxb23vmuqSVHn%2FyYBbmGDsANS9rOgw6K0GBobW9oMIn%2Bnqkw%2B06wuP8sTAFv8d3rBkKM0oR4bT8krbU08%2FlDB7pSLJmelT0BY3BEn%2Frw%3D; FPID=FPID2.2.HZBxyVX7GpXMmQiNlVId5jItUoBrKvrYZodin8i4v0s%3D; FPAU=1.1.201195010.1652868358; AMCV_C0137F6A52DEAFCC0A490D4C%40AdobeOrg=-1303530583%7CMCMID%7C16854530002531207054498915700578362740%7CMCAAMLH-1653473253%7C6%7CMCAAMB-1653473253%7CRKhpRz8krg2tLO6pguXWp5olkAcUniQYPHaMWWgdJ3xzPWQmdj0y%7CMCOPTOUT-1652875547s%7CNONE%7CvVersion%7C3.3.0%7CMCAID%7CNONE%7CMCCIDH%7C0; s_pers=%20s_vnum%3D1654030800408%2526vn%253D1%7C1654030800408%3B%20gpv_p6%3D%2520%7C1652870321123%3B%20eVar225%3D6%7C1652870325124%3B%20visitCount%3D1%7C1652870325128%3B%20s_invisit%3Dtrue%7C1652870326432%3B%20s_nr%3D1652868526436-New%7C1684404526436%3B%20gpv_e47%3Dno%2520value%7C1652870326438%3B%20gpv_p10%3Ddesktop%2520row%257Ccategory%2520page%257C28235%2520refined%7C1652870326441%3B; _cs_id=4f558e33-1680-a9de-b7a9-01ed6b136128.1652868358.1.1652868526.1652868358.1628755191.1687032358352; _cs_s=4.0.0.1652870326581; OptanonConsent=isIABGlobal=false&datestamp=Wed+May+18+2022+13%3A08%3A46+GMT%2B0300+(East+Africa+Time)&version=6.30.0&hosts=&landingPath=NotLandingPage&groups=C0001%3A1%2CC0003%3A1%2CC0004%3A1&AwaitingReconsent=false; _ga=GA1.1.2027558743.1652868358; _abck=F36DBDC83DF4A4D10B8DE744D0B81D43~0~YAAQh2xkX4RToKmAAQAAHJGk1gdCSh6fAP6lpRuxQeeH2mRXJLfeENKZ66rYRjtludLEpzUxUMBpbajSHBv2bo1fa3foyg7lBD08nAu8bK1cx/7vMkc/+9VIaixJKgAYvoTzTuwSv4Jftr8rQ56/GVGgf2C6Oz+ljODnk58B0MmDxxgsazPU96JtsD5eZ33LwJ1cx/aO1TrAdVuwsc4uOa2UYcmNt4suiZ6A4zveefNIlB0jERgbhGW+jok6YQ8tm7UImmesfguIZbBrsKUrEpIaW9Gzxx59PJ67DYrtzyRwDgwBpV+FPb/IbPIYh4PWQddyKz4ucAH400FTBAXYv3TdLxYY/ZhYOtt28ZcgsKycaiWy3WBcvsJzH/2JeTF91ZRL/qmxbC0ncAJB3FOvBbbNI5u6gw==~-1~||-1||~-1; plp_columsCount=threeColumns; _ga_1JR0QCFRSY=GS1.1.1652868357.1.1.1652868640.60; RT=\"z=1&dm=asos.com&si=f408cea1-f8d0-4b83-9d39-a4c6fb945a0d&ss=l3bf4omo&sl=a&tt=xab&bcn=%2F%2F0217991c.akstat.io%2F&obo=1&ld=45k0&nu=2m4fbdp2&cl=7ngk\"; s_sq=asoscomprod%3D%2526c.%2526a.%2526activitymap.%2526page%253Ddesktop%252520row%25257Ccategory%252520page%25257C28235%252520refined%2526link%253DLOAD%252520MORE%2526region%253Dplp%2526pageIDType%253D1%2526.activitymap%2526.a%2526.c',\n",
    "    'referer': 'https://www.asos.com/men/sale/ctas/sale-edit-8/cat/?cid=28235&nlid=mw%7Csale%7Cshop%20sale%20by%20product%7Cbiggest%20deals&page=2',\n",
    "    'sec-ch-ua': '\" Not A;Brand\";v=\"99\", \"Chromium\";v=\"101\", \"Google Chrome\";v=\"101\"',\n",
    "    'sec-ch-ua-mobile': '?0',\n",
    "    'sec-ch-ua-platform': '\"Windows\"',\n",
    "    'sec-fetch-dest': 'empty',\n",
    "    'sec-fetch-mode': 'cors',\n",
    "    'sec-fetch-site': 'same-origin',\n",
    "    'user-agent': 'Mozilla/5.0 (Windows NT 10.0; Win64; x64) AppleWebKit/537.36 (KHTML, like Gecko) Chrome/101.0.4951.67 Safari/537.36',\n",
    "}\n",
    "\n",
    "params = {\n",
    "    'channel': 'desktop-web',\n",
    "    'country': 'KE',\n",
    "    'currency': 'GBP',\n",
    "    'keyStoreDataversion': 'dup0qtf-35',\n",
    "    'lang': 'en-GB',\n",
    "    'limit': '72',\n",
    "    'offset': '0',\n",
    "    'rowlength': '3',\n",
    "    'store': 'ROW',\n",
    "}\n",
    "\n",
    "response = requests.get('https://www.asos.com/api/product/search/v2/categories/28235', params=params, headers=headers)"
   ]
  },
  {
   "cell_type": "markdown",
   "id": "23818716",
   "metadata": {},
   "source": [
    "Status Code"
   ]
  },
  {
   "cell_type": "code",
   "execution_count": 4,
   "id": "a302389b",
   "metadata": {},
   "outputs": [
    {
     "data": {
      "text/plain": [
       "<Response [200]>"
      ]
     },
     "execution_count": 4,
     "metadata": {},
     "output_type": "execute_result"
    }
   ],
   "source": [
    "response"
   ]
  },
  {
   "cell_type": "markdown",
   "id": "28339fcf",
   "metadata": {},
   "source": [
    "Create Json Object"
   ]
  },
  {
   "cell_type": "code",
   "execution_count": 7,
   "id": "8196dbe9",
   "metadata": {},
   "outputs": [],
   "source": [
    "results_json = response.json()"
   ]
  },
  {
   "cell_type": "markdown",
   "id": "0a5f85d5",
   "metadata": {},
   "source": [
    "Output Keys"
   ]
  },
  {
   "cell_type": "code",
   "execution_count": 8,
   "id": "ba25ce4c",
   "metadata": {},
   "outputs": [
    {
     "data": {
      "text/plain": [
       "dict_keys(['searchTerm', 'categoryName', 'itemCount', 'redirectUrl', 'products', 'facets', 'diagnostics', 'searchPassMeta', 'queryId', 'discoverSearchProductTypes', 'campaigns'])"
      ]
     },
     "execution_count": 8,
     "metadata": {},
     "output_type": "execute_result"
    }
   ],
   "source": [
    "results_json.keys()"
   ]
  },
  {
   "cell_type": "markdown",
   "id": "ea3ce05a",
   "metadata": {},
   "source": [
    "Find your Data"
   ]
  },
  {
   "cell_type": "code",
   "execution_count": 12,
   "id": "92a3cfcd",
   "metadata": {},
   "outputs": [],
   "source": [
    "result_items= results_json['products']"
   ]
  },
  {
   "cell_type": "code",
   "execution_count": 13,
   "id": "0063f6b9",
   "metadata": {},
   "outputs": [
    {
     "data": {
      "text/plain": [
       "72"
      ]
     },
     "execution_count": 13,
     "metadata": {},
     "output_type": "execute_result"
    }
   ],
   "source": [
    "len(result_items)"
   ]
  },
  {
   "cell_type": "code",
   "execution_count": 14,
   "id": "5f030018",
   "metadata": {},
   "outputs": [
    {
     "data": {
      "text/plain": [
       "{'id': 200622176,\n",
       " 'name': 'Ben Sherman shoe shine kit',\n",
       " 'price': {'current': {'value': 7.0, 'text': '£7.00'},\n",
       "  'previous': {'value': 14.0, 'text': '£14.00'},\n",
       "  'rrp': {'value': 20.0, 'text': '£20.00'},\n",
       "  'isMarkedDown': True,\n",
       "  'isOutletPrice': True,\n",
       "  'currency': 'GBP'},\n",
       " 'colour': '',\n",
       " 'colourWayId': 200622184,\n",
       " 'brandName': 'Ben Sherman',\n",
       " 'hasVariantColours': False,\n",
       " 'hasMultiplePrices': False,\n",
       " 'groupId': None,\n",
       " 'productCode': 105320214,\n",
       " 'productType': 'Product',\n",
       " 'url': 'ben-sherman/ben-sherman-shoe-shine-kit/prd/200622176?colourWayId=200622184',\n",
       " 'imageUrl': 'images.asos-media.com/products/ben-sherman-shoe-shine-kit/200622176-1-black',\n",
       " 'videoUrl': None,\n",
       " 'isSellingFast': True,\n",
       " 'sponsoredCampaignId': None}"
      ]
     },
     "execution_count": 14,
     "metadata": {},
     "output_type": "execute_result"
    }
   ],
   "source": [
    "result_items[0]"
   ]
  },
  {
   "cell_type": "code",
   "execution_count": null,
   "id": "5dc5cf73",
   "metadata": {},
   "outputs": [],
   "source": []
  }
 ],
 "metadata": {
  "kernelspec": {
   "display_name": "Python 3 (ipykernel)",
   "language": "python",
   "name": "python3"
  },
  "language_info": {
   "codemirror_mode": {
    "name": "ipython",
    "version": 3
   },
   "file_extension": ".py",
   "mimetype": "text/x-python",
   "name": "python",
   "nbconvert_exporter": "python",
   "pygments_lexer": "ipython3",
   "version": "3.8.0"
  }
 },
 "nbformat": 4,
 "nbformat_minor": 5
}
